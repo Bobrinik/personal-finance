{
  "nbformat": 4,
  "nbformat_minor": 0,
  "metadata": {
    "colab": {
      "name": "Finances.ipynb",
      "provenance": [],
      "collapsed_sections": [],
      "toc_visible": true,
      "include_colab_link": true
    },
    "kernelspec": {
      "name": "python3",
      "display_name": "Python 3"
    }
  },
  "cells": [
    {
      "cell_type": "markdown",
      "metadata": {
        "id": "view-in-github",
        "colab_type": "text"
      },
      "source": [
        "<a href=\"https://colab.research.google.com/github/Bobrinik/personal-finance/blob/master/Finances.ipynb\" target=\"_parent\"><img src=\"https://colab.research.google.com/assets/colab-badge.svg\" alt=\"Open In Colab\"/></a>"
      ]
    },
    {
      "cell_type": "code",
      "metadata": {
        "id": "33LyjnPm4UeA",
        "colab_type": "code",
        "outputId": "5e8d3c72-2076-4794-b2d5-7c26c8f58a1e",
        "colab": {
          "base_uri": "https://localhost:8080/",
          "height": 141
        }
      },
      "source": [
        "from google.colab import drive\n",
        "drive.mount('/gdrive')\n",
        "%cd /gdrive"
      ],
      "execution_count": 3,
      "outputs": [
        {
          "output_type": "stream",
          "text": [
            "Go to this URL in a browser: https://accounts.google.com/o/oauth2/auth?client_id=947318989803-6bn6qk8qdgf4n4g3pfee6491hc0brc4i.apps.googleusercontent.com&redirect_uri=urn%3aietf%3awg%3aoauth%3a2.0%3aoob&response_type=code&scope=email%20https%3a%2f%2fwww.googleapis.com%2fauth%2fdocs.test%20https%3a%2f%2fwww.googleapis.com%2fauth%2fdrive%20https%3a%2f%2fwww.googleapis.com%2fauth%2fdrive.photos.readonly%20https%3a%2f%2fwww.googleapis.com%2fauth%2fpeopleapi.readonly\n",
            "\n",
            "Enter your authorization code:\n",
            "··········\n",
            "Mounted at /gdrive\n",
            "/gdrive\n"
          ],
          "name": "stdout"
        }
      ]
    },
    {
      "cell_type": "code",
      "metadata": {
        "id": "NNhJ3HKP7IJx",
        "colab_type": "code",
        "outputId": "ea99c3bf-dc03-4615-b8ae-7cb95d39ca3d",
        "colab": {
          "base_uri": "https://localhost:8080/",
          "height": 269
        }
      },
      "source": [
        "import pandas as pd\n",
        "import os\n",
        "\n",
        "# Set index_col to false because else it use first column as index\n",
        "df = pd.read_csv('My Drive/rbc_bank/rbc_data.csv', index_col=False, encoding = \"ISO-8859-1\")\n",
        "\n",
        "# We rename columns here\n",
        "df.columns = [\n",
        "  'account_type', \n",
        "  'account_number',\n",
        "  'date_of_transaction',\n",
        "  'check_number',\n",
        "  'description',\n",
        "  'extra_description',\n",
        "  'CAD',\n",
        "  'USD']\n",
        "df.date_of_transaction = pd.to_datetime(df.date_of_transaction)\n",
        "df"
      ],
      "execution_count": 4,
      "outputs": [
        {
          "output_type": "execute_result",
          "data": {
            "text/html": [
              "<div>\n",
              "<style scoped>\n",
              "    .dataframe tbody tr th:only-of-type {\n",
              "        vertical-align: middle;\n",
              "    }\n",
              "\n",
              "    .dataframe tbody tr th {\n",
              "        vertical-align: top;\n",
              "    }\n",
              "\n",
              "    .dataframe thead th {\n",
              "        text-align: right;\n",
              "    }\n",
              "</style>\n",
              "<table border=\"1\" class=\"dataframe\">\n",
              "  <thead>\n",
              "    <tr style=\"text-align: right;\">\n",
              "      <th></th>\n",
              "      <th>account_type</th>\n",
              "      <th>account_number</th>\n",
              "      <th>date_of_transaction</th>\n",
              "      <th>check_number</th>\n",
              "      <th>description</th>\n",
              "      <th>extra_description</th>\n",
              "      <th>CAD</th>\n",
              "      <th>USD</th>\n",
              "    </tr>\n",
              "  </thead>\n",
              "  <tbody>\n",
              "    <tr>\n",
              "      <th>0</th>\n",
              "      <td>MasterCard</td>\n",
              "      <td>5.415900e+15</td>\n",
              "      <td>2019-11-17</td>\n",
              "      <td>NaN</td>\n",
              "      <td>PROVIGO MICHEL LEFEBVR MONTREAL QC</td>\n",
              "      <td>NaN</td>\n",
              "      <td>-69.42</td>\n",
              "      <td>NaN</td>\n",
              "    </tr>\n",
              "    <tr>\n",
              "      <th>1</th>\n",
              "      <td>MasterCard</td>\n",
              "      <td>5.415900e+15</td>\n",
              "      <td>2019-11-19</td>\n",
              "      <td>NaN</td>\n",
              "      <td>PHARMAPRIX #1800 MONTREAL QC</td>\n",
              "      <td>NaN</td>\n",
              "      <td>-6.35</td>\n",
              "      <td>NaN</td>\n",
              "    </tr>\n",
              "    <tr>\n",
              "      <th>2</th>\n",
              "      <td>MasterCard</td>\n",
              "      <td>5.415900e+15</td>\n",
              "      <td>2019-11-19</td>\n",
              "      <td>NaN</td>\n",
              "      <td>TIM HORTONS #4268 MONTREAL QC</td>\n",
              "      <td>NaN</td>\n",
              "      <td>-8.95</td>\n",
              "      <td>NaN</td>\n",
              "    </tr>\n",
              "    <tr>\n",
              "      <th>3</th>\n",
              "      <td>MasterCard</td>\n",
              "      <td>5.415900e+15</td>\n",
              "      <td>2019-11-20</td>\n",
              "      <td>NaN</td>\n",
              "      <td>PHARMAPRIX #1800 MONTREAL QC</td>\n",
              "      <td>NaN</td>\n",
              "      <td>-13.41</td>\n",
              "      <td>NaN</td>\n",
              "    </tr>\n",
              "    <tr>\n",
              "      <th>4</th>\n",
              "      <td>MasterCard</td>\n",
              "      <td>5.415900e+15</td>\n",
              "      <td>2019-11-30</td>\n",
              "      <td>NaN</td>\n",
              "      <td>TIM HORTONS #5095 MONTREAL QC</td>\n",
              "      <td>NaN</td>\n",
              "      <td>-6.64</td>\n",
              "      <td>NaN</td>\n",
              "    </tr>\n",
              "    <tr>\n",
              "      <th>5</th>\n",
              "      <td>MasterCard</td>\n",
              "      <td>5.415900e+15</td>\n",
              "      <td>2019-12-01</td>\n",
              "      <td>NaN</td>\n",
              "      <td>PROVIGO MICHEL LEFEBVR MONTREAL QC</td>\n",
              "      <td>NaN</td>\n",
              "      <td>-34.70</td>\n",
              "      <td>NaN</td>\n",
              "    </tr>\n",
              "    <tr>\n",
              "      <th>6</th>\n",
              "      <td>MasterCard</td>\n",
              "      <td>5.415900e+15</td>\n",
              "      <td>2019-12-02</td>\n",
              "      <td>NaN</td>\n",
              "      <td>PHARMAPRIX #1800 MONTREAL QC</td>\n",
              "      <td>NaN</td>\n",
              "      <td>-16.99</td>\n",
              "      <td>NaN</td>\n",
              "    </tr>\n",
              "  </tbody>\n",
              "</table>\n",
              "</div>"
            ],
            "text/plain": [
              "  account_type  account_number  ...    CAD  USD\n",
              "0   MasterCard    5.415900e+15  ... -69.42  NaN\n",
              "1   MasterCard    5.415900e+15  ...  -6.35  NaN\n",
              "2   MasterCard    5.415900e+15  ...  -8.95  NaN\n",
              "3   MasterCard    5.415900e+15  ... -13.41  NaN\n",
              "4   MasterCard    5.415900e+15  ...  -6.64  NaN\n",
              "5   MasterCard    5.415900e+15  ... -34.70  NaN\n",
              "6   MasterCard    5.415900e+15  ... -16.99  NaN\n",
              "\n",
              "[7 rows x 8 columns]"
            ]
          },
          "metadata": {
            "tags": []
          },
          "execution_count": 4
        }
      ]
    },
    {
      "cell_type": "code",
      "metadata": {
        "id": "Y3ELqECj8dMv",
        "colab_type": "code",
        "cellView": "code",
        "colab": {}
      },
      "source": [
        "# NOTE: Here we are only selecting spendings that have been made from the MasterCard\n",
        "from datetime import datetime\n",
        "\n",
        "date_to_choose = (df.date_of_transaction > datetime(2019,12,1)) & (df.date_of_transaction < datetime(2019,12,31))\n",
        "account_type = df.account_type == 'MasterCard'\n",
        "filter_out_description = df.description != 'PAYMENT - THANK YOU / PAIEMENT - MERCI'\n",
        "\n",
        "monthly_transactions = df[date_to_choose & account_type & filter_out_description]"
      ],
      "execution_count": 0,
      "outputs": []
    },
    {
      "cell_type": "code",
      "metadata": {
        "id": "dgqxHP3KztFn",
        "colab_type": "code",
        "colab": {
          "base_uri": "https://localhost:8080/",
          "height": 121
        },
        "outputId": "f0fa8177-f06b-4b63-9c37-475968da8e39"
      },
      "source": [
        "# Location contains place where we spent the money\n",
        "monthly_transactions['location'] = monthly_transactions.description"
      ],
      "execution_count": 7,
      "outputs": [
        {
          "output_type": "stream",
          "text": [
            "/usr/local/lib/python3.6/dist-packages/ipykernel_launcher.py:1: SettingWithCopyWarning: \n",
            "A value is trying to be set on a copy of a slice from a DataFrame.\n",
            "Try using .loc[row_indexer,col_indexer] = value instead\n",
            "\n",
            "See the caveats in the documentation: http://pandas.pydata.org/pandas-docs/stable/user_guide/indexing.html#returning-a-view-versus-a-copy\n",
            "  \"\"\"Entry point for launching an IPython kernel.\n"
          ],
          "name": "stderr"
        }
      ]
    },
    {
      "cell_type": "markdown",
      "metadata": {
        "id": "6rKyC50h7esG",
        "colab_type": "text"
      },
      "source": [
        "## Financial data\n",
        "- What is the list of ten most expensive things?\n",
        "- On what days of the week do I spend my money?\n"
      ]
    },
    {
      "cell_type": "code",
      "metadata": {
        "id": "uf5bf0y58HTb",
        "colab_type": "code",
        "colab": {
          "base_uri": "https://localhost:8080/",
          "height": 81
        },
        "outputId": "f973242c-b7f5-4233-948e-5249a6ca8f69"
      },
      "source": [
        "# 10 Most expensive things\n",
        "top = monthly_transactions.sort_values('CAD').head(10)\n",
        "top"
      ],
      "execution_count": 8,
      "outputs": [
        {
          "output_type": "execute_result",
          "data": {
            "text/html": [
              "<div>\n",
              "<style scoped>\n",
              "    .dataframe tbody tr th:only-of-type {\n",
              "        vertical-align: middle;\n",
              "    }\n",
              "\n",
              "    .dataframe tbody tr th {\n",
              "        vertical-align: top;\n",
              "    }\n",
              "\n",
              "    .dataframe thead th {\n",
              "        text-align: right;\n",
              "    }\n",
              "</style>\n",
              "<table border=\"1\" class=\"dataframe\">\n",
              "  <thead>\n",
              "    <tr style=\"text-align: right;\">\n",
              "      <th></th>\n",
              "      <th>account_type</th>\n",
              "      <th>account_number</th>\n",
              "      <th>date_of_transaction</th>\n",
              "      <th>check_number</th>\n",
              "      <th>description</th>\n",
              "      <th>extra_description</th>\n",
              "      <th>CAD</th>\n",
              "      <th>USD</th>\n",
              "      <th>location</th>\n",
              "    </tr>\n",
              "  </thead>\n",
              "  <tbody>\n",
              "    <tr>\n",
              "      <th>6</th>\n",
              "      <td>MasterCard</td>\n",
              "      <td>5.415900e+15</td>\n",
              "      <td>2019-12-02</td>\n",
              "      <td>NaN</td>\n",
              "      <td>PHARMAPRIX #1800 MONTREAL QC</td>\n",
              "      <td>NaN</td>\n",
              "      <td>-16.99</td>\n",
              "      <td>NaN</td>\n",
              "      <td>PHARMAPRIX #1800 MONTREAL QC</td>\n",
              "    </tr>\n",
              "  </tbody>\n",
              "</table>\n",
              "</div>"
            ],
            "text/plain": [
              "  account_type  account_number  ... USD                      location\n",
              "6   MasterCard    5.415900e+15  ... NaN  PHARMAPRIX #1800 MONTREAL QC\n",
              "\n",
              "[1 rows x 9 columns]"
            ]
          },
          "metadata": {
            "tags": []
          },
          "execution_count": 8
        }
      ]
    },
    {
      "cell_type": "code",
      "metadata": {
        "id": "OeqfNJIvFhT7",
        "colab_type": "code",
        "colab": {
          "base_uri": "https://localhost:8080/",
          "height": 447
        },
        "outputId": "0d02f6d5-71de-4706-97fb-ac7846b5baaa"
      },
      "source": [
        "import calendar\n",
        "import matplotlib.pyplot as plt\n",
        "monthly_transactions[\"day\"] = monthly_transactions.date_of_transaction.apply(lambda x: calendar.day_name[x.weekday()])\n",
        "\n",
        "serie = monthly_transactions[\"day\"].value_counts()\n",
        "serie.plot(kind='bar')\n",
        "plt.xlabel('weekday')\n",
        "plt.ylabel('number of transactions')\n",
        "plt.title('Number of transactions per day of the week')"
      ],
      "execution_count": 9,
      "outputs": [
        {
          "output_type": "stream",
          "text": [
            "/usr/local/lib/python3.6/dist-packages/ipykernel_launcher.py:3: SettingWithCopyWarning: \n",
            "A value is trying to be set on a copy of a slice from a DataFrame.\n",
            "Try using .loc[row_indexer,col_indexer] = value instead\n",
            "\n",
            "See the caveats in the documentation: http://pandas.pydata.org/pandas-docs/stable/user_guide/indexing.html#returning-a-view-versus-a-copy\n",
            "  This is separate from the ipykernel package so we can avoid doing imports until\n"
          ],
          "name": "stderr"
        },
        {
          "output_type": "execute_result",
          "data": {
            "text/plain": [
              "Text(0.5, 1.0, 'Number of transactions per day of the week')"
            ]
          },
          "metadata": {
            "tags": []
          },
          "execution_count": 9
        },
        {
          "output_type": "display_data",
          "data": {
            "image/png": "[encoded data removed]",
            "text/plain": [
              "<Figure size 432x288 with 1 Axes>"
            ]
          },
          "metadata": {
            "tags": []
          }
        }
      ]
    },
    {
      "cell_type": "code",
      "metadata": {
        "id": "dDDaSMRM-p_Y",
        "colab_type": "code",
        "colab": {
          "base_uri": "https://localhost:8080/",
          "height": 81
        },
        "outputId": "3a73be37-faae-4175-886f-820a82f5631f"
      },
      "source": [
        "spendings_per_location = monthly_transactions.groupby('location').CAD.sum().reset_index()\n",
        "spendings_per_location.sort_values('CAD')"
      ],
      "execution_count": 12,
      "outputs": [
        {
          "output_type": "execute_result",
          "data": {
            "text/html": [
              "<div>\n",
              "<style scoped>\n",
              "    .dataframe tbody tr th:only-of-type {\n",
              "        vertical-align: middle;\n",
              "    }\n",
              "\n",
              "    .dataframe tbody tr th {\n",
              "        vertical-align: top;\n",
              "    }\n",
              "\n",
              "    .dataframe thead th {\n",
              "        text-align: right;\n",
              "    }\n",
              "</style>\n",
              "<table border=\"1\" class=\"dataframe\">\n",
              "  <thead>\n",
              "    <tr style=\"text-align: right;\">\n",
              "      <th></th>\n",
              "      <th>location</th>\n",
              "      <th>CAD</th>\n",
              "    </tr>\n",
              "  </thead>\n",
              "  <tbody>\n",
              "    <tr>\n",
              "      <th>0</th>\n",
              "      <td>PHARMAPRIX #1800 MONTREAL QC</td>\n",
              "      <td>-16.99</td>\n",
              "    </tr>\n",
              "  </tbody>\n",
              "</table>\n",
              "</div>"
            ],
            "text/plain": [
              "                       location    CAD\n",
              "0  PHARMAPRIX #1800 MONTREAL QC -16.99"
            ]
          },
          "metadata": {
            "tags": []
          },
          "execution_count": 12
        }
      ]
    },
    {
      "cell_type": "markdown",
      "metadata": {
        "id": "OcdaylzyWxcg",
        "colab_type": "text"
      },
      "source": [
        "## Budget categories\n",
        " Categories provided by RBC are not the same ones I use for my montly planning.\n",
        " So here I propose to use a simple classifier based on string matching."
      ]
    },
    {
      "cell_type": "code",
      "metadata": {
        "id": "XuD-6ug-X1OI",
        "colab_type": "code",
        "colab": {}
      },
      "source": [
        "import re\n",
        "\n",
        "categories = [\n",
        "  ('restaurants', r'(\\buniversel dejeuner\\b|\\bseoul chako\\b|\\ba&w\\b|\\bchef on call\\b|\\bcafe\\b|\\bjuliette\\b|\\bsecond cup\\b|\\bstation berlin\\b|yokato yokabai|tim hortons|taverne midway|restaurant|grillades|thai express|\\bburger\\b|\\bboustan\\b|\\bramen\\b)'),\n",
        "  ('entertainment', r'(club insiders|sq *sq *impro|\\bfamous player\\b)'),\n",
        "  ('grocery', r'(lindt|marche topetta|provigo|alimentation|marche|\\bprovi-soir\\b)'),\n",
        "  ('house', r'(jean coutu|dollarama)'),\n",
        "  ('clothes', r'(sports experts|h&m|jj ste-catherine)'),\n",
        "  ('alcohol', r'^saq'),\n",
        "  ('transport', r'(\\bstm\\b|\\buber\\b)'),\n",
        "  ('utilities', r'(fido|nautilus plus|papeterie nota|amagicom|coinamatic|pharmaprix|\\bcoiffure\\b|\\bbonlook\\b|\\buniprix\\b)'),\n",
        "  ('medical', r'shahdad heydari'),\n",
        "  ('online_shopping', r'\\bamazon\\b|\\bindigo\\b'),\n",
        "  ('electronics', r'\\bbest buy\\b'),\n",
        "  ('rent', r'\\brent\\b'),\n",
        "  ('education', r'(pragmatic programmers|feedly|codecademy)'),\n",
        "  ('saving', r'trouvepargne'),\n",
        "  ('apple_store', r'apple\\.com')\n",
        "]\n",
        "\n",
        "def get_category(feature):\n",
        "  feature = feature.lower()\n",
        "  result = []\n",
        "  for category, matcher in categories:\n",
        "    isMatched = re.search(matcher, feature)\n",
        "    if isMatched:\n",
        "      result.append(category)\n",
        "\n",
        "  if len(result) > 1:\n",
        "    return \", \".join(result)\n",
        "  elif len(result) == 0:\n",
        "    return \"Not mapped\"\n",
        "  elif len(result) == 1:\n",
        "    return result.pop()\n",
        "\n",
        "  return \"WTF\"\n",
        "\n",
        "# Here we are running bunch of tests to make sure that the mappings are correct\n",
        "assert get_category('#530 SPORTS EXPERTS MONTREAL QC') == 'clothes'\n",
        "assert get_category('SOUPE CAFE ET CUISINE MONTREA') == 'restaurants'\n",
        "assert get_category('STM PL DES ARTS DIE101 MONTREAL QC') == 'transport'\n",
        "assert get_category('THAI EXPRESS') == 'restaurants'\n",
        "assert get_category('codecademy') == 'education'"
      ],
      "execution_count": 0,
      "outputs": []
    },
    {
      "cell_type": "code",
      "metadata": {
        "id": "UJj4DrK1kI9v",
        "colab_type": "code",
        "colab": {
          "base_uri": "https://localhost:8080/",
          "height": 98
        },
        "outputId": "99488e54-e4a1-47a9-a649-8bac1099549c"
      },
      "source": [
        "spendings_per_location['category'] = spendings_per_location.location.apply(lambda row: get_category(row))\n",
        "category_table = spendings_per_location.groupby('category').CAD.sum().reset_index()\n",
        "print(category_table.CAD.sum())\n",
        "# spendings_per_location\n",
        "category_table"
      ],
      "execution_count": 14,
      "outputs": [
        {
          "output_type": "stream",
          "text": [
            "-16.99\n"
          ],
          "name": "stdout"
        },
        {
          "output_type": "execute_result",
          "data": {
            "text/html": [
              "<div>\n",
              "<style scoped>\n",
              "    .dataframe tbody tr th:only-of-type {\n",
              "        vertical-align: middle;\n",
              "    }\n",
              "\n",
              "    .dataframe tbody tr th {\n",
              "        vertical-align: top;\n",
              "    }\n",
              "\n",
              "    .dataframe thead th {\n",
              "        text-align: right;\n",
              "    }\n",
              "</style>\n",
              "<table border=\"1\" class=\"dataframe\">\n",
              "  <thead>\n",
              "    <tr style=\"text-align: right;\">\n",
              "      <th></th>\n",
              "      <th>category</th>\n",
              "      <th>CAD</th>\n",
              "    </tr>\n",
              "  </thead>\n",
              "  <tbody>\n",
              "    <tr>\n",
              "      <th>0</th>\n",
              "      <td>utilities</td>\n",
              "      <td>-16.99</td>\n",
              "    </tr>\n",
              "  </tbody>\n",
              "</table>\n",
              "</div>"
            ],
            "text/plain": [
              "    category    CAD\n",
              "0  utilities -16.99"
            ]
          },
          "metadata": {
            "tags": []
          },
          "execution_count": 14
        }
      ]
    }
  ]
}